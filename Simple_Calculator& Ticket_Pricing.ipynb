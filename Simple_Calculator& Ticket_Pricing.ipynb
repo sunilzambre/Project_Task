{
 "cells": [
  {
   "cell_type": "markdown",
   "id": "7fe63d7e-80dc-4689-a8d8-29e6931bd519",
   "metadata": {},
   "source": [
    "### 1.Simple caculator take input from user "
   ]
  },
  {
   "cell_type": "code",
   "execution_count": 1,
   "id": "17091a66-68a9-4314-9b6b-4881a6277c1a",
   "metadata": {},
   "outputs": [
    {
     "name": "stdin",
     "output_type": "stream",
     "text": [
      "Enter a first number:  150\n",
      "Enter a second number:  100\n",
      "Enter operation(+,-, *, /):  /\n"
     ]
    },
    {
     "name": "stdout",
     "output_type": "stream",
     "text": [
      "Result:  1.5\n"
     ]
    }
   ],
   "source": [
    "num1= float(input(\"Enter a first number: \"))\n",
    "num2=float(input(\"Enter a second number: \"))\n",
    "operation =input(\"Enter operation(+,-, *, /): \")\n",
    "\n",
    "## let us perform the operation\n",
    "if operation == '+':\n",
    "    result = num1 + num2\n",
    "elif operation =='-':\n",
    "    result =num1 - num2\n",
    "elif operation == '*':\n",
    "    result = num1 * num2\n",
    "elif operation == '/':\n",
    "    if num2!=0:\n",
    "        result = num1 / num2\n",
    "    else:\n",
    "        reslut =\"Error! Division by zero\"\n",
    "else:\n",
    "    result =\"Invalid operation\"\n",
    "print(\"Result: \",result)"
   ]
  },
  {
   "cell_type": "markdown",
   "id": "78549d8a-1d3c-44d9-ac6d-ae913691f0d5",
   "metadata": {},
   "source": [
    "### 2.Determine ticket price based on age and whether person is student \n",
    "#### Ticket pricing based on age and student status"
   ]
  },
  {
   "cell_type": "code",
   "execution_count": 2,
   "id": "66d85292-3aff-40c2-ae55-e9e09074ed3e",
   "metadata": {},
   "outputs": [
    {
     "name": "stdin",
     "output_type": "stream",
     "text": [
      "Enter you age:  12\n",
      "Are you a student?(yes/no):  no\n"
     ]
    },
    {
     "name": "stdout",
     "output_type": "stream",
     "text": [
      "Ticket Price: 10Rs\n"
     ]
    }
   ],
   "source": [
    "age = int(input(\"Enter you age: \"))\n",
    "is_student = input(\"Are you a student?(yes/no): \").lower()\n",
    "\n",
    "# determine ticket prices\n",
    "if age < 5:\n",
    "    price = \"Free\"\n",
    "elif age<=12:\n",
    "    price =\"10Rs\"\n",
    "elif age <=17:\n",
    "    if is_student =='yes':\n",
    "        price =\"12Rs\"\n",
    "    else:\n",
    "        price =\"15Rs\"\n",
    "elif age <=64:\n",
    "    if is_student =='yes':\n",
    "        price =\"18Rs\"\n",
    "    else: \n",
    "        price =\"25Rs\"\n",
    "else:\n",
    "    price =\"20Rs\"\n",
    "print(\"Ticket Price:\",price)"
   ]
  }
 ],
 "metadata": {
  "kernelspec": {
   "display_name": "Python 3 (ipykernel)",
   "language": "python",
   "name": "python3"
  },
  "language_info": {
   "codemirror_mode": {
    "name": "ipython",
    "version": 3
   },
   "file_extension": ".py",
   "mimetype": "text/x-python",
   "name": "python",
   "nbconvert_exporter": "python",
   "pygments_lexer": "ipython3",
   "version": "3.12.7"
  }
 },
 "nbformat": 4,
 "nbformat_minor": 5
}
